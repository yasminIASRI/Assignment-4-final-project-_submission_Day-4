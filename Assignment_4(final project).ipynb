{
  "nbformat": 4,
  "nbformat_minor": 0,
  "metadata": {
    "colab": {
      "name": "Assignment-4_major project.ipynb",
      "provenance": [],
      "collapsed_sections": []
    },
    "kernelspec": {
      "name": "python3",
      "display_name": "Python 3"
    },
    "language_info": {
      "name": "python"
    }
  },
  "cells": [
    {
      "cell_type": "code",
      "metadata": {
        "colab": {
          "base_uri": "https://localhost:8080/"
        },
        "id": "5xLzFtz9jmGC",
        "outputId": "32bca504-513c-4967-fcd9-ecb45c0d50a4"
      },
      "source": [
        "#Hey you are a chemist from India and you work with degree celsius in your day to day life but due to a project\n",
        "#your company had collaborated with a MNC company, where the chemists use degree frainite for their\n",
        "#purposes, and to maintain collaboration consistent we want to have a easy degree conversion,\n",
        "#Please develop a python based degree converter which takes °C value and give you output of °F\n",
        "#Input - °C -> 50, Output - °F -> 122; Formula for Conversion ___°C × 9/5) + 32 = ___°F.\n",
        "\n",
        "#Solutio:\n",
        "\n",
        "temp = input(\"Input the  temperature you like to convert(in celsius eg. 35C) : \")\n",
        "degree = int(temp[:-1])\n",
        "i_convention = temp[-1]\n",
        "\n",
        "if i_convention.upper() == \"C\":\n",
        "  result = int(round((9 * degree) / 5 + 32))\n",
        "  o_convention = \"Fahrenheit\"\n",
        "else:\n",
        "  quit()\n",
        "print(\"The temperature in\", o_convention, \"is\", result, \"Fahrenheit.\")"
      ],
      "execution_count": 1,
      "outputs": [
        {
          "output_type": "stream",
          "text": [
            "Input the  temperature you like to convert(in celsius eg. 35C) : 50C\n",
            "The temperature in Fahrenheit is 122 Fahrenheit.\n"
          ],
          "name": "stdout"
        }
      ]
    }
  ]
}